{
 "cells": [
  {
   "cell_type": "markdown",
   "metadata": {},
   "source": [
    "#以下分别用三个案例来演示假设检验的常见类型\n",
    "\n",
    "##单样本检验——汽车引擎排放水平\n",
    "\n",
    "“超级引擎”是一家专门生产汽车引擎的公司，根据政府发布的新排放要求，引擎排放平均值要低于20ppm，\n",
    "（ppm是英文百万分之一的缩写，这里我们只要理解为是按照环保要求汽车尾气中碳氢化合物要低于20ppm）。\n",
    "公司制造出10台引擎供测试使用，每一台的排放水平如下：15.6 16.2 22.5 20.5 16.4 19.4 16.6 17.9 12.7 13.9\n",
    "怎么知道，公司生产的引擎是否符合政府规定呢？"
   ]
  },
  {
   "cell_type": "code",
   "execution_count": 21,
   "metadata": {},
   "outputs": [
    {
     "name": "stdout",
     "output_type": "stream",
     "text": [
      "样本标准差= 17.169999999999998 单位：ppm\n",
      "样本标准差= 2.9814426038413018 单位：ppm\n"
     ]
    },
    {
     "name": "stderr",
     "output_type": "stream",
     "text": [
      "/Users/huangliang/opt/anaconda3/lib/python3.7/site-packages/matplotlib/backends/backend_agg.py:211: RuntimeWarning: Glyph 25968 missing from current font.\n",
      "  font.set_text(s, 0.0, flags=flags)\n",
      "/Users/huangliang/opt/anaconda3/lib/python3.7/site-packages/matplotlib/backends/backend_agg.py:211: RuntimeWarning: Glyph 25454 missing from current font.\n",
      "  font.set_text(s, 0.0, flags=flags)\n",
      "/Users/huangliang/opt/anaconda3/lib/python3.7/site-packages/matplotlib/backends/backend_agg.py:211: RuntimeWarning: Glyph 38598 missing from current font.\n",
      "  font.set_text(s, 0.0, flags=flags)\n",
      "/Users/huangliang/opt/anaconda3/lib/python3.7/site-packages/matplotlib/backends/backend_agg.py:211: RuntimeWarning: Glyph 20998 missing from current font.\n",
      "  font.set_text(s, 0.0, flags=flags)\n",
      "/Users/huangliang/opt/anaconda3/lib/python3.7/site-packages/matplotlib/backends/backend_agg.py:211: RuntimeWarning: Glyph 24067 missing from current font.\n",
      "  font.set_text(s, 0.0, flags=flags)\n",
      "/Users/huangliang/opt/anaconda3/lib/python3.7/site-packages/matplotlib/backends/backend_agg.py:180: RuntimeWarning: Glyph 25968 missing from current font.\n",
      "  font.set_text(s, 0, flags=flags)\n",
      "/Users/huangliang/opt/anaconda3/lib/python3.7/site-packages/matplotlib/backends/backend_agg.py:180: RuntimeWarning: Glyph 25454 missing from current font.\n",
      "  font.set_text(s, 0, flags=flags)\n",
      "/Users/huangliang/opt/anaconda3/lib/python3.7/site-packages/matplotlib/backends/backend_agg.py:180: RuntimeWarning: Glyph 38598 missing from current font.\n",
      "  font.set_text(s, 0, flags=flags)\n",
      "/Users/huangliang/opt/anaconda3/lib/python3.7/site-packages/matplotlib/backends/backend_agg.py:180: RuntimeWarning: Glyph 20998 missing from current font.\n",
      "  font.set_text(s, 0, flags=flags)\n",
      "/Users/huangliang/opt/anaconda3/lib/python3.7/site-packages/matplotlib/backends/backend_agg.py:180: RuntimeWarning: Glyph 24067 missing from current font.\n",
      "  font.set_text(s, 0, flags=flags)\n"
     ]
    },
    {
     "data": {
      "image/png": "[encoded data removed]",
      "text/plain": [
       "<Figure size 432x288 with 1 Axes>"
      ]
     },
     "metadata": {
      "needs_background": "light"
     },
     "output_type": "display_data"
    }
   ],
   "source": [
    "#描述统计分析\n",
    "import pandas as pd\n",
    "import numpy as np\n",
    "import matplotlib.pyplot as plt\n",
    "dataSer=pd.Series([15.6,16.2,22.5,20.5,16.4,\n",
    "                   19.4,16.6,17.9,12.7,13.9])\n",
    "#样本平均值和样本标准差\n",
    "sample_mean=dataSer.mean()\n",
    "sample_std=dataSer.std()\n",
    "print('样本标准差=',sample_mean,'单位：ppm')\n",
    "print('样本标准差=',sample_std,'单位：ppm')\n",
    "\n",
    "import seaborn as sns\n",
    "sns.distplot(dataSer)\n",
    "plt.title('数据集分布')\n",
    "plt.show()"
   ]
  },
  {
   "cell_type": "markdown",
   "metadata": {},
   "source": [
    "推论统计分析(假设检验，置信区间，效应量)\n",
    "\n",
    "要研究的问题是：这些样本数据是否满足新标准呢？\n",
    "\n",
    "根据这个问题我提出来下面两个互为相反的假设。\n",
    "\n",
    "零假设H0：公司引擎排放不满足标准，也就是平均值u>=20。这里的20是政府规定新标准的最低可能值。\n",
    "\n",
    "零假设总是表述为研究没有改变，没有效果，不起作用等，这里就是不满足标准。\n",
    "\n",
    "备选假设H1：公司引擎排放满足标准，也就是平均值u<20\n",
    "\n",
    "一个样本，选择单样本检验\n",
    "\n",
    "我们还要判断抽样分布是哪种？因为抽样分布的类型，决定了后面计算p值的不同。\n",
    "\n",
    "在我们这个汽车引擎案例中，样本大小是10（小于30），属于小样本。\n",
    "那小样本的抽样分布是否满足t分布呢？因为t分布还要求数据集近似正态分布，所以下面图片我们看下样本数据集的分布长什么样。\n",
    "\n",
    "直方图能够粗略估计数据密度，如果想给数据一个更精确的拟合曲线\n",
    "（专业术语叫：核密度估计kernel density estimate (KDE)），\n",
    "Seaborn 可以很方便的画出直方图和拟合曲线。\n",
    "\n",
    "要知道随时去官网参考教程"
   ]
  },
  {
   "cell_type": "markdown",
   "metadata": {},
   "source": [
    "数据集满足t分布的条件，所以抽样分布是t分布，自由度为9\n",
    "\n",
    "单尾检验（左尾，右尾），还是双尾检验？\n",
    "\n",
    "因为备选假设是公司引擎排放满足标准，也就是平均值u<20\n",
    "\n",
    "所以我们使用单尾检验中的左尾检验\n",
    "\n",
    "在零假设成立前提下，得到样本平均值的概率p是多少？\n",
    "\n",
    "计算p值步骤也很简单：\n",
    "\n",
    "1）计算出标准误差\n",
    "\n",
    "标准误差=样本标准差除以样本大小n的开方。这里的样本标准差是用来估计总体标准差的\n",
    "\n",
    "2）计算t值\n",
    "\n",
    "t=（样本平均值-总体平均值）/标准误差\n",
    "\n",
    "3）根据t值，自由度的计算出概率p值\n"
   ]
  },
  {
   "cell_type": "code",
   "execution_count": 6,
   "metadata": {},
   "outputs": [
    {
     "name": "stdout",
     "output_type": "stream",
     "text": [
      "标准误差se= 0.9428149341201592\n",
      "t= -3.001649525885985\n"
     ]
    }
   ],
   "source": [
    "n=10\n",
    "se=sample_std/(np.sqrt(n))\n",
    "pop_mean=20\n",
    "t=(sample_mean-pop_mean)/se\n",
    "print('标准误差se=',se)\n",
    "print('t=',t)"
   ]
  },
  {
   "cell_type": "markdown",
   "metadata": {},
   "source": [
    "使用scipy包进行计算\n",
    "用scipy计算出的是：双尾检验\n",
    "\n",
    "单（1samp）样本t检验（ttest_1samp）：\n",
    "https://docs.scipy.org/doc/scipy/reference/generated/scipy.stats.ttest_1samp.html\n",
    "\n",
    "相关（related）样本t检验（ttest_rel）：\n",
    "https://docs.scipy.org/doc/scipy/reference/generated/scipy.stats.ttest_rel.html\n",
    "\n",
    "双独立（independent）样本t检验（ttest_ind）：\n",
    "https://docs.scipy.org/doc/scipy/reference/generated/scipy.stats.ttest_ind.html"
   ]
  },
  {
   "cell_type": "code",
   "execution_count": 8,
   "metadata": {},
   "outputs": [
    {
     "name": "stdout",
     "output_type": "stream",
     "text": [
      "t值 -3.001649525885985 双尾检验的p值= 0.014916414248897527\n"
     ]
    }
   ],
   "source": [
    "from scipy import stats\n",
    "pop_mean=20\n",
    "#非线性变化，类似计算过程0.01+0.005*0.25/(3.25-2.821);注意1而不是字母l\n",
    "t,p_two=stats.ttest_1samp(dataSer,pop_mean)\n",
    "print('t值',t,'双尾检验的p值=',p_two)"
   ]
  },
  {
   "cell_type": "code",
   "execution_count": 16,
   "metadata": {},
   "outputs": [
    {
     "name": "stdout",
     "output_type": "stream",
     "text": [
      "单尾检验的p值= 0.0074582071244487635\n",
      "拒绝零假设，有统计显著，也就是汽车引擎排放满足标准\n"
     ]
    }
   ],
   "source": [
    "#双尾的p值是对应单尾p值的两倍\n",
    "p_one=p_two/2\n",
    "print('单尾检验的p值=',p_one)\n",
    "\n",
    "#判断标准（显著水平）,选用alpha=5%\n",
    "alpha=0.05\n",
    "'''\n",
    "左尾判断条件：t < 0 and  p_one < 判断标准（显著水平）alpha\n",
    "右尾判断条件：t > 0 and  p_one < 判断标准（显著水平）alpha\n",
    "'''\n",
    "if (t<0 and p_one<alpha):\n",
    "    print('拒绝零假设，有统计显著，也就是汽车引擎排放满足标准')\n",
    "else:\n",
    "    print('接受零假设，没有统计显著，也就是汽车引擎排放不满足标准')\n"
   ]
  },
  {
   "cell_type": "code",
   "execution_count": 20,
   "metadata": {},
   "outputs": [
    {
     "name": "stdout",
     "output_type": "stream",
     "text": [
      "单个平均值的置信区间，95置信水平 CI=（15.037353,19.302647）\n"
     ]
    }
   ],
   "source": [
    "#APA格式示例：单样本t(9)=-3.00,p=0.0074(α=5%)\n",
    "#95%的置信水平\n",
    "t_ci=2.262\n",
    "se=stats.sem(dataSer)\n",
    "a=sample_mean-t_ci*se\n",
    "b=sample_mean+t_ci*se\n",
    "print('单个平均值的置信区间，95置信水平 CI=（%f,%f）'%(a,b))\n"
   ]
  },
  {
   "cell_type": "markdown",
   "metadata": {},
   "source": [
    "\n",
    "【备注说明】前面第2步和第5步里面两个t值是不一样的\n",
    "\n",
    "1）在第2步，证据是什么\n",
    "\n",
    "计算p值里的t值，不是从t表格查出来的，是用公式计算出来的t=（样本平均值-总体平均值）/标准误差，\n",
    "然后用这个计算出的t值再去t表格里去查找出p值\n",
    "\n",
    "2）在第5步，置信区间\n",
    "\n",
    "t_ci是置信水平的t值，是根据置信水平95%从t表格里查找到的t值 。为了和前面的t值区别，所以加了后缀t_ci"
   ]
  },
  {
   "cell_type": "code",
   "execution_count": 19,
   "metadata": {},
   "outputs": [
    {
     "name": "stdout",
     "output_type": "stream",
     "text": [
      "d= -0.9492049239364257\n",
      "R2= 0.5002748453994631\n"
     ]
    }
   ],
   "source": [
    "#效应量,差异指标\n",
    "d=(sample_mean-pop_mean)/sample_std\n",
    "#效应量，相关度指标\n",
    "#在判断某个调查研究的结果，是否有意义或者重要时，要考虑的另一项指标是效应量。\n",
    "#效应量太小，意味着处理即使达到了显著水平，也缺乏实用价值。\n",
    "#效应量本身最重要的意义就是在于对不同效应的效应大小进行分析和比较。\n",
    "#（20岁的差异和15岁的差异相比是一样的么还是谁比较大？）\n",
    "n=10\n",
    "df=n-1\n",
    "R2=(t*t)/(t*t+df)\n",
    "print('d=',d)\n",
    "print('R2=',R2)"
   ]
  },
  {
   "cell_type": "markdown",
   "metadata": {},
   "source": [
    "数据分析报告：\n",
    "1、描述统计分析\n",
    "样本平均值17.17ppm,样本标准差2.98ppm\n",
    "2、推论统计分析\n",
    "1）假设检验\n",
    "独立样本t(9)=-3.00,p=0.0074(α=5%)，单尾检验（左尾）\n",
    "公司引擎排放满足标准\n",
    "2）置信区间\n",
    "平均值的置信区间，95%CI=（15.04,19.30）\n",
    "3)效应量\n",
    "d=-0.95"
   ]
  },
  {
   "attachments": {},
   "cell_type": "markdown",
   "metadata": {},
   "source": [
    "##相关配对检验——斯特鲁普效应\n",
    "![斯特鲁普效应](https://pic2.zhimg.com/v2-4284cf49aded5717eba2c48200aae6a9_b.jpg)"
   ]
  },
  {
   "cell_type": "markdown",
   "metadata": {},
   "source": [
    "斯特鲁普效应简单地说，它是一种干涉效应，1935年由美国心理学家约翰·里德利·斯特鲁普发现，所以用他的名字冠名了。当词的信息（词义）与写词色彩不一致时，便会出现心理紧张与自动反应之间的矛盾，于是造成反应时间延长。\n",
    "\n",
    "这种效应是否真的存在呢？又如何检验呢？"
   ]
  },
  {
   "cell_type": "code",
   "execution_count": 22,
   "metadata": {},
   "outputs": [
    {
     "data": {
      "text/html": [
       "<div>\n",
       "<style scoped>\n",
       "    .dataframe tbody tr th:only-of-type {\n",
       "        vertical-align: middle;\n",
       "    }\n",
       "\n",
       "    .dataframe tbody tr th {\n",
       "        vertical-align: top;\n",
       "    }\n",
       "\n",
       "    .dataframe thead th {\n",
       "        text-align: right;\n",
       "    }\n",
       "</style>\n",
       "<table border=\"1\" class=\"dataframe\">\n",
       "  <thead>\n",
       "    <tr style=\"text-align: right;\">\n",
       "      <th></th>\n",
       "      <th>Congruent</th>\n",
       "      <th>Incongruent</th>\n",
       "    </tr>\n",
       "  </thead>\n",
       "  <tbody>\n",
       "    <tr>\n",
       "      <th>0</th>\n",
       "      <td>12.079</td>\n",
       "      <td>19.278</td>\n",
       "    </tr>\n",
       "    <tr>\n",
       "      <th>1</th>\n",
       "      <td>16.791</td>\n",
       "      <td>18.741</td>\n",
       "    </tr>\n",
       "    <tr>\n",
       "      <th>2</th>\n",
       "      <td>9.564</td>\n",
       "      <td>21.214</td>\n",
       "    </tr>\n",
       "    <tr>\n",
       "      <th>3</th>\n",
       "      <td>8.630</td>\n",
       "      <td>15.687</td>\n",
       "    </tr>\n",
       "    <tr>\n",
       "      <th>4</th>\n",
       "      <td>14.669</td>\n",
       "      <td>22.803</td>\n",
       "    </tr>\n",
       "  </tbody>\n",
       "</table>\n",
       "</div>"
      ],
      "text/plain": [
       "   Congruent  Incongruent\n",
       "0     12.079       19.278\n",
       "1     16.791       18.741\n",
       "2      9.564       21.214\n",
       "3      8.630       15.687\n",
       "4     14.669       22.803"
      ]
     },
     "execution_count": 22,
     "metadata": {},
     "output_type": "execute_result"
    }
   ],
   "source": [
    "#描述统计分析\n",
    "import numpy as np\n",
    "import pandas as pd\n",
    "import matplotlib.pyplot as plt\n",
    "\n",
    "'''\n",
    "路径和文件名中不要用中文，不然会报错\n",
    "encoding用于指定文件的编码，因为读取的csv中有中文，所以指定文件编码为中文编码“GBK”\n",
    "'''\n",
    "\n",
    "data=pd.read_csv('斯特鲁普数据集.csv',encoding='GBK')\n",
    "data.head()"
   ]
  },
  {
   "cell_type": "code",
   "execution_count": 23,
   "metadata": {},
   "outputs": [
    {
     "data": {
      "text/html": [
       "<div>\n",
       "<style scoped>\n",
       "    .dataframe tbody tr th:only-of-type {\n",
       "        vertical-align: middle;\n",
       "    }\n",
       "\n",
       "    .dataframe tbody tr th {\n",
       "        vertical-align: top;\n",
       "    }\n",
       "\n",
       "    .dataframe thead th {\n",
       "        text-align: right;\n",
       "    }\n",
       "</style>\n",
       "<table border=\"1\" class=\"dataframe\">\n",
       "  <thead>\n",
       "    <tr style=\"text-align: right;\">\n",
       "      <th></th>\n",
       "      <th>Congruent</th>\n",
       "      <th>Incongruent</th>\n",
       "    </tr>\n",
       "  </thead>\n",
       "  <tbody>\n",
       "    <tr>\n",
       "      <th>count</th>\n",
       "      <td>24.000000</td>\n",
       "      <td>24.000000</td>\n",
       "    </tr>\n",
       "    <tr>\n",
       "      <th>mean</th>\n",
       "      <td>13.926875</td>\n",
       "      <td>22.350750</td>\n",
       "    </tr>\n",
       "    <tr>\n",
       "      <th>std</th>\n",
       "      <td>3.540219</td>\n",
       "      <td>5.010218</td>\n",
       "    </tr>\n",
       "    <tr>\n",
       "      <th>min</th>\n",
       "      <td>8.630000</td>\n",
       "      <td>15.687000</td>\n",
       "    </tr>\n",
       "    <tr>\n",
       "      <th>25%</th>\n",
       "      <td>11.895250</td>\n",
       "      <td>18.716750</td>\n",
       "    </tr>\n",
       "    <tr>\n",
       "      <th>50%</th>\n",
       "      <td>13.627500</td>\n",
       "      <td>21.046000</td>\n",
       "    </tr>\n",
       "    <tr>\n",
       "      <th>75%</th>\n",
       "      <td>15.671250</td>\n",
       "      <td>24.536000</td>\n",
       "    </tr>\n",
       "    <tr>\n",
       "      <th>max</th>\n",
       "      <td>22.328000</td>\n",
       "      <td>35.255000</td>\n",
       "    </tr>\n",
       "  </tbody>\n",
       "</table>\n",
       "</div>"
      ],
      "text/plain": [
       "       Congruent  Incongruent\n",
       "count  24.000000    24.000000\n",
       "mean   13.926875    22.350750\n",
       "std     3.540219     5.010218\n",
       "min     8.630000    15.687000\n",
       "25%    11.895250    18.716750\n",
       "50%    13.627500    21.046000\n",
       "75%    15.671250    24.536000\n",
       "max    22.328000    35.255000"
      ]
     },
     "execution_count": 23,
     "metadata": {},
     "output_type": "execute_result"
    }
   ],
   "source": [
    "data.describe()"
   ]
  },
  {
   "cell_type": "code",
   "execution_count": 24,
   "metadata": {},
   "outputs": [
    {
     "data": {
      "image/png": "[encoded data removed]",
      "text/plain": [
       "<Figure size 1440x720 with 1 Axes>"
      ]
     },
     "metadata": {
      "needs_background": "light"
     },
     "output_type": "display_data"
    }
   ],
   "source": [
    "con1_mean=data['Congruent'].mean()\n",
    "con1_std=data['Congruent'].std()\n",
    "con2_mean=data['Incongruent'].mean()\n",
    "con2_std=data['Incongruent'].std()\n",
    "\n",
    "fg=plt.figure(figsize=(20,10))\n",
    "ax=fg.add_subplot(1,1,1)\n",
    "data.plot(kind='bar',ax=ax)\n",
    "plt.show()"
   ]
  },
  {
   "cell_type": "code",
   "execution_count": 25,
   "metadata": {},
   "outputs": [
    {
     "name": "stdout",
     "output_type": "stream",
     "text": [
      "描述统计分析结果：\n",
      "第一组数据：字体内容和字体颜色一致情况下，实验者的平均反应时间是： 13.926875000000003 秒，标准差是 3.5402194271529703 秒\n",
      "第二组数据：字体内容和字体颜色不一致情况下，实验者的平均反应时间是： 22.35075 秒，标准差是 5.010217727196399 秒\n",
      "“不一致”情况下所用时间大于“一致”情况，也就是当字体内容和字体颜色不一致时，实验者的平均反应时间变长\n"
     ]
    }
   ],
   "source": [
    "print('描述统计分析结果：')\n",
    "print('第一组数据：字体内容和字体颜色一致情况下，实验者的平均反应时间是：',con1_mean,'秒，标准差是',con1_std,'秒')\n",
    "print('第二组数据：字体内容和字体颜色不一致情况下，实验者的平均反应时间是：',con2_mean,'秒，标准差是',con2_std,'秒')\n",
    "print('“不一致”情况下所用时间大于“一致”情况，也就是当字体内容和字体颜色不一致时，实验者的平均反应时间变长')\n"
   ]
  },
  {
   "cell_type": "markdown",
   "metadata": {},
   "source": [
    "推论统计分析\n",
    "\n",
    "进行假设检验\n",
    "自变量：实验数据的颜色与文字含义\n",
    "因变量：自变量的变化导致的反应时间变化\n",
    "\n",
    "假设第一组的均值为u1，第二组的均值为u2\n",
    "零假设H0：人们的反应时间不会因为字体内容和颜色是否一致而发生改变\n",
    "备选假设：特鲁普效应确实存在，人们的反应时间会因为字体内容和颜色不一致而延长\n",
    "\n",
    "因为该使用两组数据是相关样本，所以选择相关配对检验。\n",
    "相关配对检验只关注每对相关数据的差值，从而避免得到的结论受到参与人员间正常反应时间独立性的影响。\n",
    "在只关注差值集的情况下，样本集处理后只有一组（差值集）。下面我们对样本数据进行处理，从而得到差值集。\n"
   ]
  },
  {
   "cell_type": "code",
   "execution_count": 26,
   "metadata": {},
   "outputs": [
    {
     "data": {
      "text/html": [
       "<div>\n",
       "<style scoped>\n",
       "    .dataframe tbody tr th:only-of-type {\n",
       "        vertical-align: middle;\n",
       "    }\n",
       "\n",
       "    .dataframe tbody tr th {\n",
       "        vertical-align: top;\n",
       "    }\n",
       "\n",
       "    .dataframe thead th {\n",
       "        text-align: right;\n",
       "    }\n",
       "</style>\n",
       "<table border=\"1\" class=\"dataframe\">\n",
       "  <thead>\n",
       "    <tr style=\"text-align: right;\">\n",
       "      <th></th>\n",
       "      <th>Congruent</th>\n",
       "      <th>Incongruent</th>\n",
       "      <th>差值</th>\n",
       "    </tr>\n",
       "  </thead>\n",
       "  <tbody>\n",
       "    <tr>\n",
       "      <th>0</th>\n",
       "      <td>12.079</td>\n",
       "      <td>19.278</td>\n",
       "      <td>-7.199</td>\n",
       "    </tr>\n",
       "    <tr>\n",
       "      <th>1</th>\n",
       "      <td>16.791</td>\n",
       "      <td>18.741</td>\n",
       "      <td>-1.950</td>\n",
       "    </tr>\n",
       "    <tr>\n",
       "      <th>2</th>\n",
       "      <td>9.564</td>\n",
       "      <td>21.214</td>\n",
       "      <td>-11.650</td>\n",
       "    </tr>\n",
       "    <tr>\n",
       "      <th>3</th>\n",
       "      <td>8.630</td>\n",
       "      <td>15.687</td>\n",
       "      <td>-7.057</td>\n",
       "    </tr>\n",
       "    <tr>\n",
       "      <th>4</th>\n",
       "      <td>14.669</td>\n",
       "      <td>22.803</td>\n",
       "      <td>-8.134</td>\n",
       "    </tr>\n",
       "  </tbody>\n",
       "</table>\n",
       "</div>"
      ],
      "text/plain": [
       "   Congruent  Incongruent      差值\n",
       "0     12.079       19.278  -7.199\n",
       "1     16.791       18.741  -1.950\n",
       "2      9.564       21.214 -11.650\n",
       "3      8.630       15.687  -7.057\n",
       "4     14.669       22.803  -8.134"
      ]
     },
     "execution_count": 26,
     "metadata": {},
     "output_type": "execute_result"
    }
   ],
   "source": [
    "data['差值']=data['Congruent']-data['Incongruent']\n",
    "data.head()"
   ]
  },
  {
   "cell_type": "code",
   "execution_count": 27,
   "metadata": {},
   "outputs": [
    {
     "name": "stderr",
     "output_type": "stream",
     "text": [
      "/Users/huangliang/opt/anaconda3/lib/python3.7/site-packages/matplotlib/backends/backend_agg.py:211: RuntimeWarning: Glyph 24046 missing from current font.\n",
      "  font.set_text(s, 0.0, flags=flags)\n",
      "/Users/huangliang/opt/anaconda3/lib/python3.7/site-packages/matplotlib/backends/backend_agg.py:211: RuntimeWarning: Glyph 20540 missing from current font.\n",
      "  font.set_text(s, 0.0, flags=flags)\n",
      "/Users/huangliang/opt/anaconda3/lib/python3.7/site-packages/matplotlib/backends/backend_agg.py:211: RuntimeWarning: Glyph 25968 missing from current font.\n",
      "  font.set_text(s, 0.0, flags=flags)\n",
      "/Users/huangliang/opt/anaconda3/lib/python3.7/site-packages/matplotlib/backends/backend_agg.py:211: RuntimeWarning: Glyph 25454 missing from current font.\n",
      "  font.set_text(s, 0.0, flags=flags)\n",
      "/Users/huangliang/opt/anaconda3/lib/python3.7/site-packages/matplotlib/backends/backend_agg.py:211: RuntimeWarning: Glyph 38598 missing from current font.\n",
      "  font.set_text(s, 0.0, flags=flags)\n",
      "/Users/huangliang/opt/anaconda3/lib/python3.7/site-packages/matplotlib/backends/backend_agg.py:211: RuntimeWarning: Glyph 20998 missing from current font.\n",
      "  font.set_text(s, 0.0, flags=flags)\n",
      "/Users/huangliang/opt/anaconda3/lib/python3.7/site-packages/matplotlib/backends/backend_agg.py:211: RuntimeWarning: Glyph 24067 missing from current font.\n",
      "  font.set_text(s, 0.0, flags=flags)\n",
      "/Users/huangliang/opt/anaconda3/lib/python3.7/site-packages/matplotlib/backends/backend_agg.py:180: RuntimeWarning: Glyph 24046 missing from current font.\n",
      "  font.set_text(s, 0, flags=flags)\n",
      "/Users/huangliang/opt/anaconda3/lib/python3.7/site-packages/matplotlib/backends/backend_agg.py:180: RuntimeWarning: Glyph 20540 missing from current font.\n",
      "  font.set_text(s, 0, flags=flags)\n",
      "/Users/huangliang/opt/anaconda3/lib/python3.7/site-packages/matplotlib/backends/backend_agg.py:180: RuntimeWarning: Glyph 25968 missing from current font.\n",
      "  font.set_text(s, 0, flags=flags)\n",
      "/Users/huangliang/opt/anaconda3/lib/python3.7/site-packages/matplotlib/backends/backend_agg.py:180: RuntimeWarning: Glyph 25454 missing from current font.\n",
      "  font.set_text(s, 0, flags=flags)\n",
      "/Users/huangliang/opt/anaconda3/lib/python3.7/site-packages/matplotlib/backends/backend_agg.py:180: RuntimeWarning: Glyph 38598 missing from current font.\n",
      "  font.set_text(s, 0, flags=flags)\n",
      "/Users/huangliang/opt/anaconda3/lib/python3.7/site-packages/matplotlib/backends/backend_agg.py:180: RuntimeWarning: Glyph 20998 missing from current font.\n",
      "  font.set_text(s, 0, flags=flags)\n",
      "/Users/huangliang/opt/anaconda3/lib/python3.7/site-packages/matplotlib/backends/backend_agg.py:180: RuntimeWarning: Glyph 24067 missing from current font.\n",
      "  font.set_text(s, 0, flags=flags)\n"
     ]
    },
    {
     "data": {
      "image/png": "[encoded data removed]",
      "text/plain": [
       "<Figure size 432x288 with 1 Axes>"
      ]
     },
     "metadata": {
      "needs_background": "light"
     },
     "output_type": "display_data"
    }
   ],
   "source": [
    "#抽样分布类型\n",
    "import seaborn as sns\n",
    "sns.distplot(data['差值'])\n",
    "plt.title('差值数据集分布')\n",
    "plt.show()"
   ]
  },
  {
   "cell_type": "code",
   "execution_count": 30,
   "metadata": {},
   "outputs": [
    {
     "name": "stdout",
     "output_type": "stream",
     "text": [
      "t值= -8.088610872807587 双尾检验的p值= 3.548719149724915e-08\n",
      "单尾检验的p值= 1.7743595748624577e-08\n",
      "拒绝零假设，有统计显著\n",
      "也就是接受备选假设：特鲁普效应存在\n"
     ]
    }
   ],
   "source": [
    "#数据集近似正态分布，可用t分布\n",
    "#使用左尾检验，显著水平为5%，t检验的自由度df=n-1=25\n",
    "#在零假设成立的前提下，得到样本平均值的概率p是多少？\n",
    "\n",
    "from scipy import stats\n",
    "t,p_two=stats.ttest_rel(data['Congruent'],data['Incongruent'])\n",
    "print('t值=',t,'双尾检验的p值=',p_two)\n",
    "\n",
    "p_one=p_two/2\n",
    "print('单尾检验的p值=',p_one)\n",
    "\n",
    "alpha=0.05\n",
    "\n",
    "if (t<0 and p_one<alpha):\n",
    "    print('拒绝零假设，有统计显著')\n",
    "    print('也就是接受备选假设：特鲁普效应存在')\n",
    "else:\n",
    "    print('接受备选假设，没有统计显著，也就是特鲁普效应不存在')"
   ]
  },
  {
   "cell_type": "code",
   "execution_count": 31,
   "metadata": {},
   "outputs": [
    {
     "name": "stdout",
     "output_type": "stream",
     "text": [
      "两个平均值差值的置信区间,95置信水平CI=[-10.779632,-6.068118]\n",
      "d= -1.6510807805255563\n"
     ]
    }
   ],
   "source": [
    "t_ci=2.262\n",
    "sample_mean=data['差值'].mean()\n",
    "se=stats.sem(data['差值'])\n",
    "a=sample_mean-t_ci*se\n",
    "b=sample_mean+t_ci*se\n",
    "print('两个平均值差值的置信区间,95置信水平CI=[%f,%f]'%(a,b))\n",
    "\n",
    "#差值数据集对应的总体平均值是0\n",
    "pop_mean=0\n",
    "sample_std=data['差值'].std()\n",
    "d=(sample_mean-pop_mean)/sample_std\n",
    "print('d=',d)\n",
    "d= -1.696530924576647\n"
   ]
  },
  {
   "cell_type": "markdown",
   "metadata": {},
   "source": [
    "数据分析报告总结\n",
    "1、描述统计分析\n",
    "第一组样本数据：字体内容和字体颜色一致情况下，平均反应时间是：14.25秒，标准差是3.83秒\n",
    "第二组样本数据：字体内容和字体颜色不一致情况下，平均反应时间是：22.75秒，标准差是5.29秒\n",
    "“不一致”情况下所用时间均大于“一致”情况，也就是当字体内容和字体颜色不一致时，实验者的所花平均时间更长\n",
    "2、推论统计分析\n",
    "1）假设检验\n",
    "相关配对检验t(25)=-8.48,p=1.102e-08(α=5%),左尾检验\n",
    "统计上存在显著差异，拒绝零假设，从而验证斯特鲁普效应存在\n",
    "2）置信区间\n",
    "两个平均值差值的置信区间，95%的置信水平CI=[-10.76,-6.23]\n",
    "3)效应量\n",
    "d=-1.70"
   ]
  },
  {
   "cell_type": "code",
   "execution_count": null,
   "metadata": {},
   "outputs": [],
   "source": []
  }
 ],
 "metadata": {
  "kernelspec": {
   "display_name": "Python 3",
   "language": "python",
   "name": "python3"
  },
  "language_info": {
   "codemirror_mode": {
    "name": "ipython",
    "version": 3
   },
   "file_extension": ".py",
   "mimetype": "text/x-python",
   "name": "python",
   "nbconvert_exporter": "python",
   "pygments_lexer": "ipython3",
   "version": "3.7.6"
  }
 },
 "nbformat": 4,
 "nbformat_minor": 4
}
