{
 "cells": [
  {
   "cell_type": "markdown",
   "metadata": {},
   "source": [
    "样本的性质决定了假设检验所采用的形式，一份完整的数据分析报告应当按照如下所示步骤进行"
   ]
  },
  {
   "cell_type": "markdown",
   "metadata": {},
   "source": [
    "![数据分析报告](https://pic1.zhimg.com/v2-94ef6f9f8354afdc997cba94015065b8_b.jpg)"
   ]
  },
  {
   "cell_type": "markdown",
   "metadata": {},
   "source": [
    "A/B测试——独立双样本检验\n",
    "\n",
    "这是两款键盘布局不一样的手机(A版本，B版本)，你作为公司的产品经理，想在正式发布产品之前知道，\n",
    "哪个键盘布局对用户体验更好呢？\n",
    "\n",
    "首先，我们需要设置目标，用来衡量各个版本的优劣，如果是电商网站，目标可以是点击率，注册率，页面停留时间等。\n",
    "\n",
    "在这个键盘布局案例里，如果一个键盘布局对用户打字时拼错产生的影响较小，那么这个布局是符合用户体验习惯的。\n",
    "所以我们将目标定为用户打字时拼错字产生的影响。\n",
    "\n",
    "有了目标以后，下一步就是采集数据。在这一部分，用户会随机分配到不同版本中，通过他们的交互行为会被直接检测，\n",
    "并收集起来作为以后分析的重要数据。\n",
    "\n",
    "我们随机抽取实验者，将实验者分成2组，每组25人，A组使用键盘布局A，B组使用键盘布局B。\n",
    "让他们在30秒内打出标准的20个单词文字消息，然后记录打错字的数量。\n",
    "\n",
    "我们将数据记录在Excel中，A列是使用键盘布局A打错字的数量，B列是使用键盘布局B打错字的数量。\n",
    "\n",
    "现在我们开始A/B测试"
   ]
  },
  {
   "cell_type": "code",
   "execution_count": 1,
   "metadata": {},
   "outputs": [
    {
     "data": {
      "text/html": [
       "<div>\n",
       "<style scoped>\n",
       "    .dataframe tbody tr th:only-of-type {\n",
       "        vertical-align: middle;\n",
       "    }\n",
       "\n",
       "    .dataframe tbody tr th {\n",
       "        vertical-align: top;\n",
       "    }\n",
       "\n",
       "    .dataframe thead th {\n",
       "        text-align: right;\n",
       "    }\n",
       "</style>\n",
       "<table border=\"1\" class=\"dataframe\">\n",
       "  <thead>\n",
       "    <tr style=\"text-align: right;\">\n",
       "      <th></th>\n",
       "      <th>A</th>\n",
       "      <th>B</th>\n",
       "    </tr>\n",
       "  </thead>\n",
       "  <tbody>\n",
       "    <tr>\n",
       "      <th>0</th>\n",
       "      <td>6</td>\n",
       "      <td>6</td>\n",
       "    </tr>\n",
       "    <tr>\n",
       "      <th>1</th>\n",
       "      <td>6</td>\n",
       "      <td>11</td>\n",
       "    </tr>\n",
       "    <tr>\n",
       "      <th>2</th>\n",
       "      <td>2</td>\n",
       "      <td>8</td>\n",
       "    </tr>\n",
       "    <tr>\n",
       "      <th>3</th>\n",
       "      <td>7</td>\n",
       "      <td>5</td>\n",
       "    </tr>\n",
       "    <tr>\n",
       "      <th>4</th>\n",
       "      <td>8</td>\n",
       "      <td>11</td>\n",
       "    </tr>\n",
       "  </tbody>\n",
       "</table>\n",
       "</div>"
      ],
      "text/plain": [
       "   A   B\n",
       "0  6   6\n",
       "1  6  11\n",
       "2  2   8\n",
       "3  7   5\n",
       "4  8  11"
      ]
     },
     "execution_count": 1,
     "metadata": {},
     "output_type": "execute_result"
    }
   ],
   "source": [
    "import pandas as pd\n",
    "import numpy as np\n",
    "import matplotlib.pyplot as plt\n",
    "\n",
    "fileNameStr='键盘AB测试.xlsx'\n",
    "xls=pd.ExcelFile(fileNameStr)\n",
    "data=xls.parse('Sheet1',dtype='object')\n",
    "data.head()"
   ]
  },
  {
   "cell_type": "code",
   "execution_count": 3,
   "metadata": {},
   "outputs": [
    {
     "data": {
      "text/html": [
       "<div>\n",
       "<style scoped>\n",
       "    .dataframe tbody tr th:only-of-type {\n",
       "        vertical-align: middle;\n",
       "    }\n",
       "\n",
       "    .dataframe tbody tr th {\n",
       "        vertical-align: top;\n",
       "    }\n",
       "\n",
       "    .dataframe thead th {\n",
       "        text-align: right;\n",
       "    }\n",
       "</style>\n",
       "<table border=\"1\" class=\"dataframe\">\n",
       "  <thead>\n",
       "    <tr style=\"text-align: right;\">\n",
       "      <th></th>\n",
       "      <th>A</th>\n",
       "      <th>B</th>\n",
       "    </tr>\n",
       "  </thead>\n",
       "  <tbody>\n",
       "    <tr>\n",
       "      <th>count</th>\n",
       "      <td>25</td>\n",
       "      <td>25</td>\n",
       "    </tr>\n",
       "    <tr>\n",
       "      <th>unique</th>\n",
       "      <td>8</td>\n",
       "      <td>9</td>\n",
       "    </tr>\n",
       "    <tr>\n",
       "      <th>top</th>\n",
       "      <td>4</td>\n",
       "      <td>11</td>\n",
       "    </tr>\n",
       "    <tr>\n",
       "      <th>freq</th>\n",
       "      <td>6</td>\n",
       "      <td>4</td>\n",
       "    </tr>\n",
       "  </tbody>\n",
       "</table>\n",
       "</div>"
      ],
      "text/plain": [
       "         A   B\n",
       "count   25  25\n",
       "unique   8   9\n",
       "top      4  11\n",
       "freq     6   4"
      ]
     },
     "execution_count": 3,
     "metadata": {},
     "output_type": "execute_result"
    }
   ],
   "source": [
    "data.describe()"
   ]
  },
  {
   "cell_type": "code",
   "execution_count": 4,
   "metadata": {},
   "outputs": [
    {
     "name": "stdout",
     "output_type": "stream",
     "text": [
      "转换后的数据类型：\n",
      " A    int64\n",
      "B    int64\n",
      "dtype: object\n"
     ]
    }
   ],
   "source": [
    "#转换字符串类型\n",
    "data['A']=data['A'].astype('int')\n",
    "data['B']=data['B'].astype('int')\n",
    "print('转换后的数据类型：\\n',data.dtypes)\n"
   ]
  },
  {
   "cell_type": "code",
   "execution_count": 5,
   "metadata": {},
   "outputs": [
    {
     "name": "stdout",
     "output_type": "stream",
     "text": [
      "A版本平均值= 5.08 单位：打错字数量\n",
      "B版本平均值= 7.8 单位：打错字数量\n",
      "A版本样本大小25，样本标准差= 2.05993527406405 单位：打错字数量\n",
      "B版本样本大小25，样本标准差= 2.6457513110645903 单位：打错字数量\n"
     ]
    }
   ],
   "source": [
    "a_mean=data['A'].mean()\n",
    "b_mean=data['B'].mean()\n",
    "print('A版本平均值=',a_mean,'单位：打错字数量')\n",
    "print('B版本平均值=',b_mean,'单位：打错字数量')\n",
    "#pandas默认计算的是样本标准差\n",
    "a_std=data['A'].std()\n",
    "b_std=data['B'].std()\n",
    "print('A版本样本大小25，样本标准差=',a_std,'单位：打错字数量')\n",
    "print('B版本样本大小25，样本标准差=',b_std,'单位：打错字数量')"
   ]
  },
  {
   "cell_type": "markdown",
   "metadata": {},
   "source": [
    "推论统计分析\n",
    "\n",
    "零假设：两个版本没有差别\n",
    "备选假设：两个版本有差别"
   ]
  },
  {
   "cell_type": "code",
   "execution_count": 6,
   "metadata": {},
   "outputs": [
    {
     "name": "stderr",
     "output_type": "stream",
     "text": [
      "/Users/huangliang/opt/anaconda3/lib/python3.7/site-packages/matplotlib/backends/backend_agg.py:211: RuntimeWarning: Glyph 29256 missing from current font.\n",
      "  font.set_text(s, 0.0, flags=flags)\n",
      "/Users/huangliang/opt/anaconda3/lib/python3.7/site-packages/matplotlib/backends/backend_agg.py:211: RuntimeWarning: Glyph 26412 missing from current font.\n",
      "  font.set_text(s, 0.0, flags=flags)\n",
      "/Users/huangliang/opt/anaconda3/lib/python3.7/site-packages/matplotlib/backends/backend_agg.py:211: RuntimeWarning: Glyph 25968 missing from current font.\n",
      "  font.set_text(s, 0.0, flags=flags)\n",
      "/Users/huangliang/opt/anaconda3/lib/python3.7/site-packages/matplotlib/backends/backend_agg.py:211: RuntimeWarning: Glyph 25454 missing from current font.\n",
      "  font.set_text(s, 0.0, flags=flags)\n",
      "/Users/huangliang/opt/anaconda3/lib/python3.7/site-packages/matplotlib/backends/backend_agg.py:211: RuntimeWarning: Glyph 38598 missing from current font.\n",
      "  font.set_text(s, 0.0, flags=flags)\n",
      "/Users/huangliang/opt/anaconda3/lib/python3.7/site-packages/matplotlib/backends/backend_agg.py:211: RuntimeWarning: Glyph 20998 missing from current font.\n",
      "  font.set_text(s, 0.0, flags=flags)\n",
      "/Users/huangliang/opt/anaconda3/lib/python3.7/site-packages/matplotlib/backends/backend_agg.py:211: RuntimeWarning: Glyph 24067 missing from current font.\n",
      "  font.set_text(s, 0.0, flags=flags)\n",
      "/Users/huangliang/opt/anaconda3/lib/python3.7/site-packages/matplotlib/backends/backend_agg.py:180: RuntimeWarning: Glyph 29256 missing from current font.\n",
      "  font.set_text(s, 0, flags=flags)\n",
      "/Users/huangliang/opt/anaconda3/lib/python3.7/site-packages/matplotlib/backends/backend_agg.py:180: RuntimeWarning: Glyph 26412 missing from current font.\n",
      "  font.set_text(s, 0, flags=flags)\n",
      "/Users/huangliang/opt/anaconda3/lib/python3.7/site-packages/matplotlib/backends/backend_agg.py:180: RuntimeWarning: Glyph 25968 missing from current font.\n",
      "  font.set_text(s, 0, flags=flags)\n",
      "/Users/huangliang/opt/anaconda3/lib/python3.7/site-packages/matplotlib/backends/backend_agg.py:180: RuntimeWarning: Glyph 25454 missing from current font.\n",
      "  font.set_text(s, 0, flags=flags)\n",
      "/Users/huangliang/opt/anaconda3/lib/python3.7/site-packages/matplotlib/backends/backend_agg.py:180: RuntimeWarning: Glyph 38598 missing from current font.\n",
      "  font.set_text(s, 0, flags=flags)\n",
      "/Users/huangliang/opt/anaconda3/lib/python3.7/site-packages/matplotlib/backends/backend_agg.py:180: RuntimeWarning: Glyph 20998 missing from current font.\n",
      "  font.set_text(s, 0, flags=flags)\n",
      "/Users/huangliang/opt/anaconda3/lib/python3.7/site-packages/matplotlib/backends/backend_agg.py:180: RuntimeWarning: Glyph 24067 missing from current font.\n",
      "  font.set_text(s, 0, flags=flags)\n"
     ]
    },
    {
     "data": {
      "image/png": "[encoded data removed]",
      "text/plain": [
       "<Figure size 432x288 with 1 Axes>"
      ]
     },
     "metadata": {
      "needs_background": "light"
     },
     "output_type": "display_data"
    },
    {
     "name": "stderr",
     "output_type": "stream",
     "text": [
      "/Users/huangliang/opt/anaconda3/lib/python3.7/site-packages/matplotlib/backends/backend_agg.py:211: RuntimeWarning: Glyph 29256 missing from current font.\n",
      "  font.set_text(s, 0.0, flags=flags)\n",
      "/Users/huangliang/opt/anaconda3/lib/python3.7/site-packages/matplotlib/backends/backend_agg.py:211: RuntimeWarning: Glyph 26412 missing from current font.\n",
      "  font.set_text(s, 0.0, flags=flags)\n",
      "/Users/huangliang/opt/anaconda3/lib/python3.7/site-packages/matplotlib/backends/backend_agg.py:211: RuntimeWarning: Glyph 25968 missing from current font.\n",
      "  font.set_text(s, 0.0, flags=flags)\n",
      "/Users/huangliang/opt/anaconda3/lib/python3.7/site-packages/matplotlib/backends/backend_agg.py:211: RuntimeWarning: Glyph 25454 missing from current font.\n",
      "  font.set_text(s, 0.0, flags=flags)\n",
      "/Users/huangliang/opt/anaconda3/lib/python3.7/site-packages/matplotlib/backends/backend_agg.py:211: RuntimeWarning: Glyph 38598 missing from current font.\n",
      "  font.set_text(s, 0.0, flags=flags)\n",
      "/Users/huangliang/opt/anaconda3/lib/python3.7/site-packages/matplotlib/backends/backend_agg.py:211: RuntimeWarning: Glyph 20998 missing from current font.\n",
      "  font.set_text(s, 0.0, flags=flags)\n",
      "/Users/huangliang/opt/anaconda3/lib/python3.7/site-packages/matplotlib/backends/backend_agg.py:211: RuntimeWarning: Glyph 24067 missing from current font.\n",
      "  font.set_text(s, 0.0, flags=flags)\n",
      "/Users/huangliang/opt/anaconda3/lib/python3.7/site-packages/matplotlib/backends/backend_agg.py:180: RuntimeWarning: Glyph 29256 missing from current font.\n",
      "  font.set_text(s, 0, flags=flags)\n",
      "/Users/huangliang/opt/anaconda3/lib/python3.7/site-packages/matplotlib/backends/backend_agg.py:180: RuntimeWarning: Glyph 26412 missing from current font.\n",
      "  font.set_text(s, 0, flags=flags)\n",
      "/Users/huangliang/opt/anaconda3/lib/python3.7/site-packages/matplotlib/backends/backend_agg.py:180: RuntimeWarning: Glyph 25968 missing from current font.\n",
      "  font.set_text(s, 0, flags=flags)\n",
      "/Users/huangliang/opt/anaconda3/lib/python3.7/site-packages/matplotlib/backends/backend_agg.py:180: RuntimeWarning: Glyph 25454 missing from current font.\n",
      "  font.set_text(s, 0, flags=flags)\n",
      "/Users/huangliang/opt/anaconda3/lib/python3.7/site-packages/matplotlib/backends/backend_agg.py:180: RuntimeWarning: Glyph 38598 missing from current font.\n",
      "  font.set_text(s, 0, flags=flags)\n",
      "/Users/huangliang/opt/anaconda3/lib/python3.7/site-packages/matplotlib/backends/backend_agg.py:180: RuntimeWarning: Glyph 20998 missing from current font.\n",
      "  font.set_text(s, 0, flags=flags)\n",
      "/Users/huangliang/opt/anaconda3/lib/python3.7/site-packages/matplotlib/backends/backend_agg.py:180: RuntimeWarning: Glyph 24067 missing from current font.\n",
      "  font.set_text(s, 0, flags=flags)\n"
     ]
    },
    {
     "data": {
      "image/png": "[encoded data removed]",
      "text/plain": [
       "<Figure size 432x288 with 1 Axes>"
      ]
     },
     "metadata": {
      "needs_background": "light"
     },
     "output_type": "display_data"
    }
   ],
   "source": [
    "#确定抽样分布类型，小于30，看数据集分布类型\n",
    "import seaborn as sns\n",
    "sns.distplot(data['A'])\n",
    "plt.title('A版本数据集分布')\n",
    "plt.show()\n",
    "sns.distplot(data['B'])\n",
    "plt.title('B版本数据集分布')\n",
    "plt.show()"
   ]
  },
  {
   "cell_type": "code",
   "execution_count": 7,
   "metadata": {},
   "outputs": [
    {
     "data": {
      "text/plain": [
       "\"\\nttest_ind：独立双样本t检验，\\nusevar='unequal'两个总体方差不一样\\n返回的第1个值t是假设检验计算出的（t值），\\n第2个p_two是双尾检验的p值\\n第3个df是独立双样本的自由度\\n\""
      ]
     },
     "execution_count": 7,
     "metadata": {},
     "output_type": "execute_result"
    }
   ],
   "source": [
    "#检验方向：不等，使用双尾检验\n",
    "#Scipy的双独立样本t检验不能返回自由度，对于后面计算置信区间不方便。\n",
    "#所以我们使用另一个统计包（statsmodels）\n",
    "\n",
    "import statsmodels.stats.weightstats as st\n",
    "\n",
    "'''\n",
    "ttest_ind：独立双样本t检验，\n",
    "usevar='unequal'两个总体方差不一样\n",
    "返回的第1个值t是假设检验计算出的（t值），\n",
    "第2个p_two是双尾检验的p值\n",
    "第3个df是独立双样本的自由度\n",
    "'''"
   ]
  },
  {
   "cell_type": "code",
   "execution_count": 8,
   "metadata": {},
   "outputs": [
    {
     "name": "stdout",
     "output_type": "stream",
     "text": [
      "t= -4.055938536857321 p_two= 0.00019457455307216092 df= 45.27813331135627\n"
     ]
    }
   ],
   "source": [
    "t,p_two,df=st.ttest_ind(data['A'],data['B'],usevar='unequal')\n",
    "print('t=',t,'p_two=',p_two,'df=',df)"
   ]
  },
  {
   "cell_type": "code",
   "execution_count": 9,
   "metadata": {},
   "outputs": [
    {
     "name": "stdout",
     "output_type": "stream",
     "text": [
      "拒绝零假设，有统计显著，也就是接受备选假设\n",
      "备选假设：A版本和B版本有区别\n"
     ]
    }
   ],
   "source": [
    "alpha=0.05\n",
    "\n",
    "if (p_two<alpha):\n",
    "    print('拒绝零假设，有统计显著，也就是接受备选假设')\n",
    "    print('备选假设：A版本和B版本有区别')\n",
    "else:\n",
    "    print('接受零假设，没有统计显著')\n",
    "    print('零假设：A版本和B版本没有区别')"
   ]
  },
  {
   "cell_type": "code",
   "execution_count": 11,
   "metadata": {},
   "outputs": [
    {
     "name": "stdout",
     "output_type": "stream",
     "text": [
      "两个平均值差值的置信区间，95置信水平CI=[-4.070699,-1.369301]\n"
     ]
    }
   ],
   "source": [
    "t_ci=2.0141\n",
    "a_n=25\n",
    "b_n=25\n",
    "#numpy.square 平方,numpy.sqrt开方\n",
    "se=np.sqrt(np.square(a_std)/a_n+np.square(b_std)/b_n)\n",
    "sample_mean=a_mean-b_mean\n",
    "a=sample_mean-t_ci*se\n",
    "b=sample_mean+t_ci*se\n",
    "print('两个平均值差值的置信区间，95置信水平CI=[%f,%f]'%(a,b))"
   ]
  },
  {
   "cell_type": "markdown",
   "metadata": {},
   "source": [
    "效应量：差异指标Cohen's d\n",
    "这里的标准差，因为是双独立样本，需要用合并标准差（pooled standard deviations）代替"
   ]
  },
  {
   "cell_type": "code",
   "execution_count": 12,
   "metadata": {},
   "outputs": [
    {
     "name": "stdout",
     "output_type": "stream",
     "text": [
      "d= -1.1471926573950622\n"
     ]
    }
   ],
   "source": [
    "sp=np.sqrt(((a_n-1)*np.square(a_std)+(b_n-1)*np.square(b_std))/(a_n+b_n-2))\n",
    "d=(a_mean-b_mean)/sp\n",
    "print('d=',d)\n",
    "\n",
    "d= -1.1471926574"
   ]
  },
  {
   "cell_type": "markdown",
   "metadata": {},
   "source": [
    "数据分析报告：\n",
    "1、描述统计分析\n",
    "A版本打错字数量平均是5.08个，标准差是2.06个\n",
    "B版本打错字数量平均是7.8个，标准差是2.65个\n",
    "2、推论统计分析\n",
    "1）假设检验\n",
    "独立双样本t(45)=-4.05,p=0.00019(α=5%)，双尾检验\n",
    "拒绝零假设，统计显著\n",
    "2）置信区间\n",
    "两个平均值差值的置信区间，95%置信水平CI=[-4.07,-1.37]\n",
    "3)效应量d=-1.15,效果显著"
   ]
  }
 ],
 "metadata": {
  "kernelspec": {
   "display_name": "Python 3",
   "language": "python",
   "name": "python3"
  },
  "language_info": {
   "codemirror_mode": {
    "name": "ipython",
    "version": 3
   },
   "file_extension": ".py",
   "mimetype": "text/x-python",
   "name": "python",
   "nbconvert_exporter": "python",
   "pygments_lexer": "ipython3",
   "version": "3.7.6"
  }
 },
 "nbformat": 4,
 "nbformat_minor": 4
}
